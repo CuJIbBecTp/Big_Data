{
 "cells": [
  {
   "cell_type": "markdown",
   "metadata": {
    "ExecuteTime": {
     "end_time": "2020-09-17T06:18:20.969927Z",
     "start_time": "2020-09-17T06:18:20.963708Z"
    }
   },
   "source": [
    "![image info](./images/python_developer.png)"
   ]
  },
  {
   "cell_type": "markdown",
   "metadata": {},
   "source": [
    "# Интерпетатор Python"
   ]
  },
  {
   "cell_type": "code",
   "execution_count": 1,
   "metadata": {
    "ExecuteTime": {
     "end_time": "2020-10-03T08:09:51.418898Z",
     "start_time": "2020-10-03T08:09:51.415924Z"
    }
   },
   "outputs": [
    {
     "name": "stdout",
     "output_type": "stream",
     "text": [
      "3.8.3 (default, May 30 2020, 21:27:51) \n",
      "[GCC 9.3.0]\n"
     ]
    }
   ],
   "source": [
    "import sys\n",
    "\n",
    "print(sys.version)"
   ]
  },
  {
   "cell_type": "markdown",
   "metadata": {},
   "source": [
    "# Основы (переменные, стуктуры данных, циклы, условные операторы)"
   ]
  },
  {
   "cell_type": "markdown",
   "metadata": {},
   "source": [
    "## Переменные"
   ]
  },
  {
   "cell_type": "code",
   "execution_count": 2,
   "metadata": {
    "ExecuteTime": {
     "end_time": "2020-10-03T08:12:22.349796Z",
     "start_time": "2020-10-03T08:12:22.345577Z"
    }
   },
   "outputs": [
    {
     "name": "stdout",
     "output_type": "stream",
     "text": [
      "a = 1, type: <class 'int'>\n",
      "b = 0.5, type: <class 'float'>\n",
      "c = 'string', type: <class 'str'>\n",
      "d = True, type: <class 'bool'>\n"
     ]
    }
   ],
   "source": [
    "# Определение переменых\n",
    "\n",
    "a = 1\n",
    "print(f\"{a = }, type: {type(a)}\")\n",
    "\n",
    "b = 0.5\n",
    "print(f\"{b = }, type: {type(b)}\")\n",
    "\n",
    "c = \"string\"\n",
    "print(f\"{c = }, type: {type(c)}\")\n",
    "\n",
    "d = True\n",
    "print(f\"{d = }, type: {type(d)}\")"
   ]
  },
  {
   "cell_type": "code",
   "execution_count": 7,
   "metadata": {
    "ExecuteTime": {
     "end_time": "2020-10-03T08:18:51.164227Z",
     "start_time": "2020-10-03T08:18:51.159884Z"
    }
   },
   "outputs": [
    {
     "name": "stdout",
     "output_type": "stream",
     "text": [
      "a = 'string', type: <class 'str'>\n",
      "b = 'string', type: <class 'str'>\n",
      "a = 1, type: <class 'int'>\n",
      "a = 2, type: <class 'int'>\n"
     ]
    }
   ],
   "source": [
    "# Тип переменных определяется в момент исполнения команды\n",
    "\n",
    "b = a\n",
    "a = c\n",
    "print(f\"{a = }, type: {type(a)}\")\n",
    "print(f\"{b = }, type: {type(b)}\")\n",
    "\n",
    "a = 1\n",
    "print(f\"a = {a}, type: {type(a)}\")\n",
    "print(f\"a = {a+1}, type: {type(a)}\")"
   ]
  },
  {
   "cell_type": "code",
   "execution_count": 10,
   "metadata": {
    "ExecuteTime": {
     "end_time": "2020-10-03T08:22:35.913183Z",
     "start_time": "2020-10-03T08:22:35.908153Z"
    }
   },
   "outputs": [
    {
     "name": "stdout",
     "output_type": "stream",
     "text": [
      "a = 0, b = 1\n"
     ]
    }
   ],
   "source": [
    "print(f\"a = {0}, b = {1}\".format(a,  b))"
   ]
  },
  {
   "cell_type": "code",
   "execution_count": 11,
   "metadata": {
    "ExecuteTime": {
     "end_time": "2020-10-03T08:23:59.339867Z",
     "start_time": "2020-10-03T08:23:59.337331Z"
    }
   },
   "outputs": [
    {
     "name": "stdout",
     "output_type": "stream",
     "text": [
      "1\tstring\n"
     ]
    }
   ],
   "source": [
    "print(\"%s\\t%s\" % (a, b))"
   ]
  },
  {
   "cell_type": "markdown",
   "metadata": {},
   "source": [
    "## Структуры данных"
   ]
  },
  {
   "cell_type": "markdown",
   "metadata": {
    "heading_collapsed": true
   },
   "source": [
    "### list"
   ]
  },
  {
   "cell_type": "code",
   "execution_count": 12,
   "metadata": {
    "ExecuteTime": {
     "end_time": "2020-10-03T08:27:01.083321Z",
     "start_time": "2020-10-03T08:27:01.080753Z"
    },
    "hidden": true
   },
   "outputs": [
    {
     "name": "stdout",
     "output_type": "stream",
     "text": [
      "a = [1, 2, 'string', 0.2, 9, 9], type: <class 'list'>\n"
     ]
    }
   ],
   "source": [
    "a = [1, 2, 'string', 0.2, 9, 9]\n",
    "print(f\"{a = }, type: {type(a)}\")"
   ]
  },
  {
   "cell_type": "code",
   "execution_count": 13,
   "metadata": {
    "ExecuteTime": {
     "end_time": "2020-10-03T08:27:56.851715Z",
     "start_time": "2020-10-03T08:27:56.848959Z"
    },
    "hidden": true
   },
   "outputs": [
    {
     "name": "stdout",
     "output_type": "stream",
     "text": [
      "a = [0.5, 2, 'string', 0.2, 9, 9], type: <class 'list'>\n"
     ]
    }
   ],
   "source": [
    "a[0] = 0.5\n",
    "print(f\"{a = }, type: {type(a)}\")"
   ]
  },
  {
   "cell_type": "code",
   "execution_count": 14,
   "metadata": {
    "ExecuteTime": {
     "end_time": "2020-10-03T08:29:22.709567Z",
     "start_time": "2020-10-03T08:29:22.704988Z"
    },
    "hidden": true
   },
   "outputs": [
    {
     "name": "stdout",
     "output_type": "stream",
     "text": [
      "List: [0.5, 2, 'string', 0.2, 9, 9]\n",
      "Forward slicing:\n",
      "    a[1:4] = [2, 'string', 0.2]\n",
      "    a[::2] = [0.5, 'string', 9]\n",
      "\n",
      "Backward slicing:\n",
      "    a[-1] = 9\n",
      "    a[-1:-3:-1] = [9, 9]\n",
      "    a[::-1] = [9, 9, 0.2, 'string', 2, 0.5]\n"
     ]
    }
   ],
   "source": [
    "# start: stop: step\n",
    "\n",
    "print(f\"List: {a}\")\n",
    "print('Forward slicing:')\n",
    "print(' '*3, f\"{a[1:4] = }\")\n",
    "print(' '*3, f\"{a[::2] = }\")\n",
    "\n",
    "print()\n",
    "print('Backward slicing:')\n",
    "print(' '*3, f\"{a[-1] = }\")\n",
    "print(' '*3, f\"{a[-1:-3:-1] = }\")\n",
    "print(' '*3, f\"{a[::-1] = }\")"
   ]
  },
  {
   "cell_type": "code",
   "execution_count": 15,
   "metadata": {
    "ExecuteTime": {
     "end_time": "2020-10-03T08:34:09.999284Z",
     "start_time": "2020-10-03T08:34:09.995910Z"
    },
    "hidden": true
   },
   "outputs": [
    {
     "name": "stdout",
     "output_type": "stream",
     "text": [
      "List methods: ['append', 'clear', 'copy', 'count', 'extend', 'index', 'insert', 'pop', 'remove', 'reverse', 'sort']\n",
      "reverse: a = [9, 9, 0.2, 'string', 2, 0.5]\n"
     ]
    }
   ],
   "source": [
    "# Методы объекта list\n",
    "method_list = [func for func in dir(a) if callable(getattr(a, func)) and not func.startswith(\"__\")]\n",
    "print(f\"List methods: {method_list}\")\n",
    "    \n",
    "a.reverse()\n",
    "print('reverse:', f\"{a = }\")"
   ]
  },
  {
   "cell_type": "code",
   "execution_count": 16,
   "metadata": {
    "ExecuteTime": {
     "end_time": "2020-10-03T08:34:33.984073Z",
     "start_time": "2020-10-03T08:34:33.980797Z"
    },
    "hidden": true
   },
   "outputs": [
    {
     "name": "stdout",
     "output_type": "stream",
     "text": [
      "a = [9, 9, 0.2, 'string', 2, 0.5, [5, 6, 7]]\n"
     ]
    }
   ],
   "source": [
    "a.append([5,6,7])\n",
    "print(f\"{a = }\")"
   ]
  },
  {
   "cell_type": "markdown",
   "metadata": {
    "hidden": true
   },
   "source": [
    "**Итого**\n",
    "+ Может содержать елементы разного типа\n",
    "+ Последовательность элементов сохраняется\n",
    "+ Содержит богатое количество методов\n",
    "+ Доступ к элементам по индексам\n",
    "+ Можно изменять элементы массива\n",
    "+ Возможен slicing"
   ]
  },
  {
   "cell_type": "markdown",
   "metadata": {
    "heading_collapsed": true
   },
   "source": [
    "### tuple"
   ]
  },
  {
   "cell_type": "code",
   "execution_count": 17,
   "metadata": {
    "ExecuteTime": {
     "end_time": "2020-10-03T08:37:30.766865Z",
     "start_time": "2020-10-03T08:37:30.763174Z"
    },
    "hidden": true,
    "scrolled": true
   },
   "outputs": [
    {
     "name": "stdout",
     "output_type": "stream",
     "text": [
      "a = (1, 2, 'string', 0.2, 9), type: <class 'tuple'>\n",
      "a = [1], type: <class 'list'>\n",
      "a = 1, type: <class 'int'>\n",
      "a = (1,), type: <class 'tuple'>\n"
     ]
    }
   ],
   "source": [
    "a = (1, 2, 'string', 0.2, 9)\n",
    "print(f\"{a = }, type: {type(a)}\")\n",
    "\n",
    "a = [1]\n",
    "print(f\"{a = }, type: {type(a)}\")\n",
    "\n",
    "a = (1)\n",
    "print(f\"{a = }, type: {type(a)}\")\n",
    "\n",
    "a = (1,)\n",
    "print(f\"{a = }, type: {type(a)}\")\n",
    "\n",
    "a = (1, 2, 'string', 0.2, 9)"
   ]
  },
  {
   "cell_type": "code",
   "execution_count": 18,
   "metadata": {
    "ExecuteTime": {
     "end_time": "2020-10-03T08:38:36.755355Z",
     "start_time": "2020-10-03T08:38:36.752714Z"
    },
    "hidden": true
   },
   "outputs": [
    {
     "name": "stdout",
     "output_type": "stream",
     "text": [
      "'tuple' object does not support item assignment\n",
      "a[0] = 1\n"
     ]
    }
   ],
   "source": [
    "try:\n",
    "    a[0] = 0.5\n",
    "except TypeError as err:\n",
    "    print(err)\n",
    "print(f\"{a[0] = }\")"
   ]
  },
  {
   "cell_type": "code",
   "execution_count": 19,
   "metadata": {
    "ExecuteTime": {
     "end_time": "2020-10-03T08:40:11.724980Z",
     "start_time": "2020-10-03T08:40:11.721844Z"
    },
    "hidden": true
   },
   "outputs": [
    {
     "name": "stdout",
     "output_type": "stream",
     "text": [
      "Tuple methods: ['count', 'index']\n"
     ]
    }
   ],
   "source": [
    "# Mетоды объекта tuple\n",
    "method_list = [func for func in dir(a) if callable(getattr(a, func)) and not func.startswith(\"__\")]\n",
    "print(f\"Tuple methods: {method_list}\")"
   ]
  },
  {
   "cell_type": "code",
   "execution_count": 20,
   "metadata": {
    "ExecuteTime": {
     "end_time": "2020-10-03T08:40:23.740428Z",
     "start_time": "2020-10-03T08:40:23.735523Z"
    },
    "hidden": true
   },
   "outputs": [
    {
     "name": "stdout",
     "output_type": "stream",
     "text": [
      "Tuple: (1, 2, 'string', 0.2, 9)\n",
      "Forward slicing:\n",
      "    a[1:4] = (2, 'string', 0.2)\n",
      "    a[::2] = (1, 'string', 9)\n",
      "\n",
      "Backward slicing:\n",
      "    a[-1] = 9\n",
      "    a[-1:-3:-1] = (9, 0.2)\n",
      "    a[::-1] = (9, 0.2, 'string', 2, 1)\n"
     ]
    }
   ],
   "source": [
    "# start: stop: step\n",
    "\n",
    "print(f\"Tuple: {a}\")\n",
    "print('Forward slicing:')\n",
    "print(' '*3, f\"{a[1:4] = }\")\n",
    "print(' '*3, f\"{a[::2] = }\")\n",
    "\n",
    "print()\n",
    "print('Backward slicing:')\n",
    "print(' '*3, f\"{a[-1] = }\")\n",
    "print(' '*3, f\"{a[-1:-3:-1] = }\")\n",
    "print(' '*3, f\"{a[::-1] = }\")"
   ]
  },
  {
   "cell_type": "code",
   "execution_count": 21,
   "metadata": {
    "ExecuteTime": {
     "end_time": "2020-10-03T08:43:49.809653Z",
     "start_time": "2020-10-03T08:43:49.797274Z"
    },
    "hidden": true
   },
   "outputs": [
    {
     "data": {
      "text/plain": [
       "(1, 2, 3, 6)"
      ]
     },
     "execution_count": 21,
     "metadata": {},
     "output_type": "execute_result"
    }
   ],
   "source": [
    "(1,2,3) + (6,)"
   ]
  },
  {
   "cell_type": "markdown",
   "metadata": {
    "hidden": true
   },
   "source": [
    "**Итого**\n",
    "+ Может содержать елементы разного типа\n",
    "+ Последовательность элементов сохраняется\n",
    "+ <del>Содержит богатое количество методов</del>\n",
    "+ Доступ к элементам по индексам\n",
    "+ <del>Можно изменять элементы массива</del>\n",
    "+ Возможен slicing"
   ]
  },
  {
   "cell_type": "markdown",
   "metadata": {
    "heading_collapsed": true
   },
   "source": [
    "### set"
   ]
  },
  {
   "cell_type": "code",
   "execution_count": 22,
   "metadata": {
    "ExecuteTime": {
     "end_time": "2020-10-03T08:45:18.967103Z",
     "start_time": "2020-10-03T08:45:18.963796Z"
    },
    "hidden": true
   },
   "outputs": [
    {
     "name": "stdout",
     "output_type": "stream",
     "text": [
      "a = {0.2, 1, 2, 9, 'string'}, type: <class 'set'>\n",
      "a = {1}, type: <class 'set'>\n"
     ]
    }
   ],
   "source": [
    "a = {1, 2, 'string', 0.2, 9, 9}\n",
    "print(f\"{a = }, type: {type(a)}\")\n",
    "\n",
    "a = {1}\n",
    "print(f\"{a = }, type: {type(a)}\")\n",
    "\n",
    "a = {1, 2, 'string', 0.2, 9, 9}"
   ]
  },
  {
   "cell_type": "code",
   "execution_count": 23,
   "metadata": {
    "ExecuteTime": {
     "end_time": "2020-10-03T08:45:42.509240Z",
     "start_time": "2020-10-03T08:45:42.504268Z"
    },
    "hidden": true
   },
   "outputs": [
    {
     "name": "stdout",
     "output_type": "stream",
     "text": [
      "'set' object does not support item assignment\n",
      "'set' object is not subscriptable\n"
     ]
    }
   ],
   "source": [
    "try:\n",
    "    a[0] = 0.5\n",
    "except TypeError as err:\n",
    "    print(err)\n",
    "\n",
    "try:\n",
    "    print(f\"{a[0] = }\")\n",
    "except TypeError as err:\n",
    "    print(err)"
   ]
  },
  {
   "cell_type": "code",
   "execution_count": 24,
   "metadata": {
    "ExecuteTime": {
     "end_time": "2020-10-03T08:46:44.117928Z",
     "start_time": "2020-10-03T08:46:44.115168Z"
    },
    "hidden": true
   },
   "outputs": [
    {
     "name": "stdout",
     "output_type": "stream",
     "text": [
      "Set methods: ['add', 'clear', 'copy', 'difference', 'difference_update', 'discard', 'intersection', 'intersection_update', 'isdisjoint', 'issubset', 'issuperset', 'pop', 'remove', 'symmetric_difference', 'symmetric_difference_update', 'union', 'update']\n"
     ]
    }
   ],
   "source": [
    "# Mетоды объекта set\n",
    "method_list = [func for func in dir(a) if callable(getattr(a, func)) and not func.startswith(\"__\")]\n",
    "print(f\"Set methods: {method_list}\")"
   ]
  },
  {
   "cell_type": "code",
   "execution_count": 25,
   "metadata": {
    "ExecuteTime": {
     "end_time": "2020-10-03T08:50:15.331580Z",
     "start_time": "2020-10-03T08:50:15.329099Z"
    },
    "hidden": true
   },
   "outputs": [
    {
     "name": "stdout",
     "output_type": "stream",
     "text": [
      "Tuple: {0.2, 1, 2, 9, 'string'}\n",
      "Forward slicing:\n",
      "'set' object is not subscriptable\n"
     ]
    }
   ],
   "source": [
    "# Slicing\n",
    "\n",
    "try:\n",
    "    print(f\"Tuple: {a}\")\n",
    "    print('Forward slicing:')\n",
    "    print(' '*3, f\"{a[1:4] = }\")\n",
    "except TypeError as err:\n",
    "    print(err)"
   ]
  },
  {
   "cell_type": "markdown",
   "metadata": {},
   "source": [
    "### dict"
   ]
  },
  {
   "cell_type": "code",
   "execution_count": 56,
   "metadata": {
    "ExecuteTime": {
     "end_time": "2020-10-03T09:19:15.482463Z",
     "start_time": "2020-10-03T09:19:15.479173Z"
    }
   },
   "outputs": [
    {
     "name": "stdout",
     "output_type": "stream",
     "text": [
      "a = {'key1': 7, 'key2': 'value', 1: 'string', '1': 3}, type: <class 'dict'>\n"
     ]
    }
   ],
   "source": [
    "a = {\n",
    "    'key1': 7,\n",
    "    'key2': 'value',\n",
    "    1: 'string',\n",
    "    '1': 3,\n",
    "}\n",
    "print(f\"{a = }, type: {type(a)}\")"
   ]
  },
  {
   "cell_type": "code",
   "execution_count": 29,
   "metadata": {
    "ExecuteTime": {
     "end_time": "2020-10-03T08:52:48.984198Z",
     "start_time": "2020-10-03T08:52:48.981184Z"
    }
   },
   "outputs": [
    {
     "name": "stdout",
     "output_type": "stream",
     "text": [
      "a = {'key1': 7, 'key2': 'value', 1: 0.5, '1': 'string', 'key3': 'new key'}, type: <class 'dict'>\n"
     ]
    }
   ],
   "source": [
    "a[1] = 0.5\n",
    "a['1'] = 'string'\n",
    "a['key3'] = 'new key'\n",
    "print(f\"{a = }, type: {type(a)}\")"
   ]
  },
  {
   "cell_type": "code",
   "execution_count": 30,
   "metadata": {
    "ExecuteTime": {
     "end_time": "2020-10-03T08:54:28.112145Z",
     "start_time": "2020-10-03T08:54:28.108546Z"
    }
   },
   "outputs": [
    {
     "name": "stdout",
     "output_type": "stream",
     "text": [
      "Dict methods: ['clear', 'copy', 'fromkeys', 'get', 'items', 'keys', 'pop', 'popitem', 'setdefault', 'update', 'values']\n",
      "keys: a.keys() = dict_keys(['key1', 'key2', 1, '1', 'key3'])\n"
     ]
    }
   ],
   "source": [
    "# Методы объекта dict\n",
    "method_list = [func for func in dir(a) if callable(getattr(a, func)) and not func.startswith(\"__\")]\n",
    "print(f\"Dict methods: {method_list}\")\n",
    "    \n",
    "print('keys:', f\"{a.keys() = }\")"
   ]
  },
  {
   "cell_type": "markdown",
   "metadata": {},
   "source": [
    "**Итого**\n",
    "+ Хранение в виде пар ключ-значение. Реализовано в виде hash-таблицы.\n",
    "+ Ключи и значения могут быть разных типов\n",
    "+ Доступ к значениям по ключу за О(1)\n",
    "+ Содержит богатое количество методов\n",
    "+ Можно изменять данные по ключу и добавлять новые ключ-значения"
   ]
  },
  {
   "cell_type": "code",
   "execution_count": 57,
   "metadata": {
    "ExecuteTime": {
     "end_time": "2020-10-03T09:20:33.602942Z",
     "start_time": "2020-10-03T09:20:33.599363Z"
    }
   },
   "outputs": [
    {
     "name": "stdout",
     "output_type": "stream",
     "text": [
      "k = 'key1', v = 7\n",
      "k = 'key2', v = 'value'\n",
      "k = 1, v = 'string'\n",
      "k = '1', v = 3\n"
     ]
    }
   ],
   "source": [
    "for k, v in a.items():\n",
    "    print(f\"{k = }, {v = }\")"
   ]
  },
  {
   "cell_type": "code",
   "execution_count": 32,
   "metadata": {
    "ExecuteTime": {
     "end_time": "2020-10-03T08:56:24.200353Z",
     "start_time": "2020-10-03T08:56:24.196848Z"
    }
   },
   "outputs": [
    {
     "data": {
      "text/plain": [
       "False"
      ]
     },
     "execution_count": 32,
     "metadata": {},
     "output_type": "execute_result"
    }
   ],
   "source": [
    "'key4' in a"
   ]
  },
  {
   "cell_type": "markdown",
   "metadata": {
    "heading_collapsed": true
   },
   "source": [
    "## Условные операторы"
   ]
  },
  {
   "cell_type": "code",
   "execution_count": 33,
   "metadata": {
    "ExecuteTime": {
     "end_time": "2020-10-03T08:58:28.748854Z",
     "start_time": "2020-10-03T08:58:28.746803Z"
    },
    "hidden": true
   },
   "outputs": [],
   "source": [
    "a = 10"
   ]
  },
  {
   "cell_type": "code",
   "execution_count": 35,
   "metadata": {
    "ExecuteTime": {
     "end_time": "2020-10-03T08:59:47.718226Z",
     "start_time": "2020-10-03T08:59:47.716006Z"
    },
    "hidden": true
   },
   "outputs": [
    {
     "name": "stdout",
     "output_type": "stream",
     "text": [
      "True\n"
     ]
    }
   ],
   "source": [
    "if a < 100:\n",
    "    print(True)"
   ]
  },
  {
   "cell_type": "code",
   "execution_count": 36,
   "metadata": {
    "ExecuteTime": {
     "end_time": "2020-10-03T08:59:55.553389Z",
     "start_time": "2020-10-03T08:59:55.551023Z"
    },
    "hidden": true
   },
   "outputs": [
    {
     "name": "stdout",
     "output_type": "stream",
     "text": [
      "False\n"
     ]
    }
   ],
   "source": [
    "if a >= 100:\n",
    "    print(True)\n",
    "else:\n",
    "    print(False)"
   ]
  },
  {
   "cell_type": "code",
   "execution_count": 37,
   "metadata": {
    "ExecuteTime": {
     "end_time": "2020-10-03T09:00:23.320748Z",
     "start_time": "2020-10-03T09:00:23.316922Z"
    },
    "hidden": true
   },
   "outputs": [
    {
     "name": "stdout",
     "output_type": "stream",
     "text": [
      "a <= 20\n"
     ]
    }
   ],
   "source": [
    "if a >= 100:\n",
    "    print('a >= 100')\n",
    "elif 20 < a < 100:\n",
    "    print('20 < a < 100')\n",
    "else:\n",
    "    print('a <= 20')"
   ]
  },
  {
   "cell_type": "code",
   "execution_count": 38,
   "metadata": {
    "ExecuteTime": {
     "end_time": "2020-10-03T09:01:07.057438Z",
     "start_time": "2020-10-03T09:01:07.054348Z"
    },
    "hidden": true
   },
   "outputs": [
    {
     "name": "stdout",
     "output_type": "stream",
     "text": [
      "True\n"
     ]
    }
   ],
   "source": [
    "if a >= 100:\n",
    "    print('a >= 100')\n",
    "elif 20 < a < 100:\n",
    "    print('20 < a < 100')\n",
    "elif a == 10:\n",
    "    print(True)"
   ]
  },
  {
   "cell_type": "markdown",
   "metadata": {},
   "source": [
    "## Циклы"
   ]
  },
  {
   "cell_type": "code",
   "execution_count": 39,
   "metadata": {
    "ExecuteTime": {
     "end_time": "2020-10-03T09:02:01.786161Z",
     "start_time": "2020-10-03T09:02:01.784300Z"
    }
   },
   "outputs": [],
   "source": [
    "import time"
   ]
  },
  {
   "cell_type": "code",
   "execution_count": 50,
   "metadata": {
    "ExecuteTime": {
     "end_time": "2020-10-03T09:11:19.466295Z",
     "start_time": "2020-10-03T09:11:14.457672Z"
    }
   },
   "outputs": [
    {
     "name": "stdout",
     "output_type": "stream",
     "text": [
      "100.00%\r"
     ]
    }
   ],
   "source": [
    "p = 1\n",
    "total = 1_000\n",
    "while p <= total:\n",
    "    if p % 100 == 0:\n",
    "        print(f\"{p * 100 / total:.02f}%\", end='\\r')\n",
    "        time.sleep(0.5)\n",
    "    p += 1"
   ]
  },
  {
   "cell_type": "code",
   "execution_count": 55,
   "metadata": {
    "ExecuteTime": {
     "end_time": "2020-10-03T09:18:46.888298Z",
     "start_time": "2020-10-03T09:18:46.882624Z"
    }
   },
   "outputs": [
    {
     "ename": "TypeError",
     "evalue": "cannot convert dictionary update sequence element #0 to a sequence",
     "output_type": "error",
     "traceback": [
      "\u001b[0;31m---------------------------------------------------------------------------\u001b[0m",
      "\u001b[0;31mTypeError\u001b[0m                                 Traceback (most recent call last)",
      "\u001b[0;32m<ipython-input-55-acef3a2366f2>\u001b[0m in \u001b[0;36m<module>\u001b[0;34m\u001b[0m\n\u001b[1;32m      1\u001b[0m \u001b[0;31m# start, stop, step\u001b[0m\u001b[0;34m\u001b[0m\u001b[0;34m\u001b[0m\u001b[0;34m\u001b[0m\u001b[0m\n\u001b[1;32m      2\u001b[0m \u001b[0;34m\u001b[0m\u001b[0m\n\u001b[0;32m----> 3\u001b[0;31m \u001b[0mp\u001b[0m \u001b[0;34m=\u001b[0m \u001b[0mdict\u001b[0m\u001b[0;34m(\u001b[0m\u001b[0mrange\u001b[0m\u001b[0;34m(\u001b[0m\u001b[0;36m1\u001b[0m\u001b[0;34m,\u001b[0m \u001b[0;36m1_001\u001b[0m\u001b[0;34m)\u001b[0m\u001b[0;34m)\u001b[0m\u001b[0;34m\u001b[0m\u001b[0;34m\u001b[0m\u001b[0m\n\u001b[0m\u001b[1;32m      4\u001b[0m \u001b[0mprint\u001b[0m\u001b[0;34m(\u001b[0m\u001b[0;34m\"Last 10 elements:\"\u001b[0m\u001b[0;34m,\u001b[0m \u001b[0;34mf\"{p[:-11:-1]}\"\u001b[0m\u001b[0;34m)\u001b[0m\u001b[0;34m\u001b[0m\u001b[0;34m\u001b[0m\u001b[0m\n\u001b[1;32m      5\u001b[0m \u001b[0;34m\u001b[0m\u001b[0m\n",
      "\u001b[0;31mTypeError\u001b[0m: cannot convert dictionary update sequence element #0 to a sequence"
     ]
    }
   ],
   "source": [
    "# start, stop, step\n",
    "\n",
    "p = dict(range(1, 1_001))\n",
    "print(\"Last 10 elements:\", f\"{p[:-11:-1]}\")\n",
    "\n",
    "for element in p:\n",
    "    if element % 100 == 0:\n",
    "        print(f\"{element * 100 / total:.02f}%\", end='\\r')\n",
    "        time.sleep(0.5)"
   ]
  },
  {
   "cell_type": "markdown",
   "metadata": {},
   "source": [
    "# Функции (return, yield)"
   ]
  },
  {
   "cell_type": "markdown",
   "metadata": {
    "solution2": "hidden",
    "solution2_first": true
   },
   "source": [
    "Даны два list.\n",
    "\n",
    "```python\n",
    "list1 = [1, 2, 6, 10, 'string1', 56, 'string2']\n",
    "list2 = [10, 20, 6, 100, 'string10', 5, 'string2']\n",
    "```\n",
    "\n",
    "Найти и вывести в виде list одинаковые елементы в list1 и list2 **(5 мин).**\n",
    "Если элементы в list1 и/или list2 повторяются, то в результирующем list он должен встречаться один раз."
   ]
  },
  {
   "cell_type": "code",
   "execution_count": 61,
   "metadata": {
    "ExecuteTime": {
     "end_time": "2020-10-03T09:41:59.337118Z",
     "start_time": "2020-10-03T09:41:59.333453Z"
    },
    "solution2": "hidden"
   },
   "outputs": [
    {
     "name": "stdout",
     "output_type": "stream",
     "text": [
      "Result: [10, 6, 'string2']\n"
     ]
    }
   ],
   "source": [
    "list1 = [1, 2, 6, 10, 'string1', 56, 'string2']\n",
    "list2 = [10, 20, 6, 100, 'string10', 5, 'string2']\n",
    "\n",
    "result = []\n",
    "for e1 in list1:\n",
    "    for e2 in list2:\n",
    "        if e1 == e2:\n",
    "            result.append(e1)\n",
    "print(\"Result:\", f\"{list(set(result))}\")"
   ]
  },
  {
   "cell_type": "markdown",
   "metadata": {
    "heading_collapsed": true
   },
   "source": [
    "## Классическая функция"
   ]
  },
  {
   "cell_type": "code",
   "execution_count": 72,
   "metadata": {
    "ExecuteTime": {
     "end_time": "2020-10-03T09:59:57.194847Z",
     "start_time": "2020-10-03T09:59:57.191839Z"
    },
    "code_folding": [],
    "hidden": true
   },
   "outputs": [],
   "source": [
    "def find_same_elements(l1, l2, n=10):\n",
    "    result = []\n",
    "    for e1 in l1:\n",
    "        for e2 in l2:\n",
    "            if e1 == e2:\n",
    "                result.append(e1)\n",
    "    return list(set(result))"
   ]
  },
  {
   "cell_type": "code",
   "execution_count": 67,
   "metadata": {
    "ExecuteTime": {
     "end_time": "2020-10-03T09:58:25.956628Z",
     "start_time": "2020-10-03T09:58:25.952539Z"
    },
    "hidden": true
   },
   "outputs": [
    {
     "name": "stdout",
     "output_type": "stream",
     "text": [
      "10\n",
      "Result: [10, 6, 'string2']\n",
      "CPU times: user 272 µs, sys: 57 µs, total: 329 µs\n",
      "Wall time: 232 µs\n"
     ]
    }
   ],
   "source": [
    "%%time\n",
    "list1 = [1, 2, 6, 10, 'string1', 56, 'string2']\n",
    "list2 = [10, 20, 6, 100, 'string10', 5, 'string2']\n",
    "\n",
    "print(\"Result:\", f\"{find_same_elements(list1, list2)}\")"
   ]
  },
  {
   "cell_type": "code",
   "execution_count": 68,
   "metadata": {
    "ExecuteTime": {
     "end_time": "2020-10-03T09:59:02.101815Z",
     "start_time": "2020-10-03T09:59:02.077233Z"
    },
    "hidden": true
   },
   "outputs": [
    {
     "name": "stdout",
     "output_type": "stream",
     "text": [
      "Length of list1: 10000\n",
      "Length of list2: 10000\n"
     ]
    }
   ],
   "source": [
    "# А что если елементов в list будет очень много?\n",
    "import random\n",
    "\n",
    "total = 100_001\n",
    "size = 10_000\n",
    "list1 = random.sample(range(1, total), size)\n",
    "list2 = random.sample(range(1, total), size)\n",
    "\n",
    "print(\"Length of list1:\", f\"{len(list1)}\")\n",
    "print(\"Length of list2:\", f\"{len(list2)}\")"
   ]
  },
  {
   "cell_type": "code",
   "execution_count": 73,
   "metadata": {
    "ExecuteTime": {
     "end_time": "2020-10-03T10:00:36.710986Z",
     "start_time": "2020-10-03T10:00:33.463490Z"
    },
    "hidden": true
   },
   "outputs": [
    {
     "name": "stdout",
     "output_type": "stream",
     "text": [
      "CPU times: user 3.19 s, sys: 0 ns, total: 3.19 s\n",
      "Wall time: 3.24 s\n"
     ]
    }
   ],
   "source": [
    "%%time\n",
    "res = find_same_elements(list1, list2)"
   ]
  },
  {
   "cell_type": "code",
   "execution_count": 70,
   "metadata": {
    "ExecuteTime": {
     "end_time": "2020-10-03T09:59:19.743649Z",
     "start_time": "2020-10-03T09:59:19.740462Z"
    },
    "hidden": true
   },
   "outputs": [
    {
     "data": {
      "text/plain": [
       "[18437, 61446, 57352, 86024, 51214, 88079, 96272, 30737, 53266, 47123]"
      ]
     },
     "execution_count": 70,
     "metadata": {},
     "output_type": "execute_result"
    }
   ],
   "source": [
    "res[:10]"
   ]
  },
  {
   "cell_type": "code",
   "execution_count": 74,
   "metadata": {
    "ExecuteTime": {
     "end_time": "2020-10-03T10:01:23.971205Z",
     "start_time": "2020-10-03T10:00:58.274403Z"
    },
    "hidden": true
   },
   "outputs": [
    {
     "name": "stdout",
     "output_type": "stream",
     "text": [
      "3.2 s ± 60.6 ms per loop (mean ± std. dev. of 7 runs, 1 loop each)\n"
     ]
    }
   ],
   "source": [
    "%%timeit\n",
    "find_same_elements(list1, list2)"
   ]
  },
  {
   "cell_type": "markdown",
   "metadata": {
    "heading_collapsed": true
   },
   "source": [
    "## Генератор"
   ]
  },
  {
   "cell_type": "code",
   "execution_count": 75,
   "metadata": {
    "ExecuteTime": {
     "end_time": "2020-10-03T10:04:03.246456Z",
     "start_time": "2020-10-03T10:04:03.243859Z"
    },
    "hidden": true
   },
   "outputs": [],
   "source": [
    "# Предположим, что мы хотим использовать найденный элемент сразу,\n",
    "# а не дожидаться пока алгоритм найдет все одинаковые элементы.\n",
    "# В этом случае нам может помочь генератор - особый тип данных.\n",
    "\n",
    "def find_same_elements_gen(l1, l2):\n",
    "    for e1 in l1:\n",
    "        for e2 in l2:\n",
    "            if e1 == e2:\n",
    "                yield e1"
   ]
  },
  {
   "cell_type": "code",
   "execution_count": 76,
   "metadata": {
    "ExecuteTime": {
     "end_time": "2020-10-03T10:05:18.313360Z",
     "start_time": "2020-10-03T10:05:18.310671Z"
    },
    "hidden": true
   },
   "outputs": [],
   "source": [
    "import itertools as it"
   ]
  },
  {
   "cell_type": "code",
   "execution_count": 78,
   "metadata": {
    "ExecuteTime": {
     "end_time": "2020-10-03T10:05:51.615439Z",
     "start_time": "2020-10-03T10:05:51.613122Z"
    },
    "hidden": true
   },
   "outputs": [],
   "source": [
    "generator = find_same_elements_gen(list1, list2)"
   ]
  },
  {
   "cell_type": "code",
   "execution_count": 81,
   "metadata": {
    "ExecuteTime": {
     "end_time": "2020-10-03T10:06:54.104250Z",
     "start_time": "2020-10-03T10:06:54.100467Z"
    },
    "hidden": true
   },
   "outputs": [
    {
     "data": {
      "text/plain": [
       "98746"
      ]
     },
     "execution_count": 81,
     "metadata": {},
     "output_type": "execute_result"
    }
   ],
   "source": [
    "next(generator)"
   ]
  },
  {
   "cell_type": "code",
   "execution_count": 82,
   "metadata": {
    "ExecuteTime": {
     "end_time": "2020-10-03T10:07:21.172671Z",
     "start_time": "2020-10-03T10:07:21.164389Z"
    },
    "hidden": true
   },
   "outputs": [
    {
     "data": {
      "text/plain": [
       "91115"
      ]
     },
     "execution_count": 82,
     "metadata": {},
     "output_type": "execute_result"
    }
   ],
   "source": [
    "next(generator)"
   ]
  },
  {
   "cell_type": "code",
   "execution_count": 83,
   "metadata": {
    "ExecuteTime": {
     "end_time": "2020-10-03T10:08:12.558085Z",
     "start_time": "2020-10-03T10:08:12.488195Z"
    },
    "hidden": true
   },
   "outputs": [
    {
     "name": "stdout",
     "output_type": "stream",
     "text": [
      "71387\n",
      "1639\n",
      "5264\n",
      "92964\n",
      "41403\n",
      "20186\n"
     ]
    }
   ],
   "source": [
    "for el in it.islice(generator, 0, 11, 2):\n",
    "    print(f\"{el}\")"
   ]
  },
  {
   "cell_type": "code",
   "execution_count": 89,
   "metadata": {
    "ExecuteTime": {
     "end_time": "2020-10-03T10:14:26.992048Z",
     "start_time": "2020-10-03T10:14:23.695702Z"
    },
    "hidden": true
   },
   "outputs": [
    {
     "name": "stdout",
     "output_type": "stream",
     "text": [
      "CPU times: user 3.29 s, sys: 0 ns, total: 3.29 s\n",
      "Wall time: 3.29 s\n"
     ]
    }
   ],
   "source": [
    "%%time\n",
    "rest_of_generator = list(set(generator))"
   ]
  },
  {
   "cell_type": "code",
   "execution_count": 90,
   "metadata": {
    "ExecuteTime": {
     "end_time": "2020-10-03T10:14:42.704133Z",
     "start_time": "2020-10-03T10:14:42.701429Z"
    },
    "hidden": true
   },
   "outputs": [
    {
     "name": "stdout",
     "output_type": "stream",
     "text": [
      "[]\n"
     ]
    }
   ],
   "source": [
    "# Генератор исчерпан\n",
    "try:\n",
    "    next(generator)\n",
    "except StopIteration as err:\n",
    "    print(list(generator))"
   ]
  },
  {
   "cell_type": "markdown",
   "metadata": {
    "heading_collapsed": true
   },
   "source": [
    "## Задача"
   ]
  },
  {
   "cell_type": "markdown",
   "metadata": {
    "hidden": true,
    "solution2": "hidden",
    "solution2_first": true
   },
   "source": [
    "Предложите решение, которое в разы позволит ускорить алгоритм **(10 мин).**"
   ]
  },
  {
   "cell_type": "code",
   "execution_count": 91,
   "metadata": {
    "ExecuteTime": {
     "end_time": "2020-10-03T10:22:02.576856Z",
     "start_time": "2020-10-03T10:22:02.573772Z"
    },
    "hidden": true,
    "solution2": "hidden"
   },
   "outputs": [],
   "source": [
    "def find_same_elements_fast(l1, l2):\n",
    "    return list(set(l1).intersection(set(l2)))"
   ]
  },
  {
   "cell_type": "code",
   "execution_count": null,
   "metadata": {
    "hidden": true
   },
   "outputs": [],
   "source": []
  },
  {
   "cell_type": "code",
   "execution_count": 92,
   "metadata": {
    "ExecuteTime": {
     "end_time": "2020-10-03T10:22:12.419734Z",
     "start_time": "2020-10-03T10:22:12.415908Z"
    },
    "hidden": true
   },
   "outputs": [
    {
     "data": {
      "text/plain": [
       "(10000, 10000)"
      ]
     },
     "execution_count": 92,
     "metadata": {},
     "output_type": "execute_result"
    }
   ],
   "source": [
    "len(list1), len(list2)"
   ]
  },
  {
   "cell_type": "code",
   "execution_count": 93,
   "metadata": {
    "ExecuteTime": {
     "end_time": "2020-10-03T10:22:26.134604Z",
     "start_time": "2020-10-03T10:22:16.244386Z"
    },
    "hidden": true
   },
   "outputs": [
    {
     "name": "stdout",
     "output_type": "stream",
     "text": [
      "1.22 ms ± 20.9 µs per loop (mean ± std. dev. of 7 runs, 1000 loops each)\n"
     ]
    }
   ],
   "source": [
    "%%timeit\n",
    "find_same_elements_fast(list1, list2)"
   ]
  },
  {
   "cell_type": "code",
   "execution_count": 94,
   "metadata": {
    "ExecuteTime": {
     "end_time": "2020-10-03T10:23:06.579554Z",
     "start_time": "2020-10-03T10:23:06.574223Z"
    },
    "hidden": true
   },
   "outputs": [
    {
     "name": "stdout",
     "output_type": "stream",
     "text": [
      "CPU times: user 1.87 ms, sys: 0 ns, total: 1.87 ms\n",
      "Wall time: 1.89 ms\n"
     ]
    }
   ],
   "source": [
    "%%time\n",
    "res = find_same_elements_fast(list1, list2)"
   ]
  },
  {
   "cell_type": "code",
   "execution_count": 95,
   "metadata": {
    "ExecuteTime": {
     "end_time": "2020-10-03T10:23:08.701328Z",
     "start_time": "2020-10-03T10:23:08.695836Z"
    },
    "hidden": true
   },
   "outputs": [
    {
     "data": {
      "text/plain": [
       "[18437, 61446, 86024, 57352, 51214, 67599, 88079, 96272, 53266, 47123]"
      ]
     },
     "execution_count": 95,
     "metadata": {},
     "output_type": "execute_result"
    }
   ],
   "source": [
    "res[:10]"
   ]
  },
  {
   "cell_type": "markdown",
   "metadata": {
    "heading_collapsed": true
   },
   "source": [
    "## Полезные встроенные функции python"
   ]
  },
  {
   "cell_type": "code",
   "execution_count": 98,
   "metadata": {
    "ExecuteTime": {
     "end_time": "2020-10-03T10:25:00.406271Z",
     "start_time": "2020-10-03T10:25:00.403148Z"
    },
    "hidden": true
   },
   "outputs": [
    {
     "name": "stdout",
     "output_type": "stream",
     "text": [
      "a = [0, 1, 2, 3, 4, 5, 6, 7, 8, 9, 10]\n"
     ]
    }
   ],
   "source": [
    "# range(start, stop, step). Возвращает генератор.\n",
    "a = list(range(11))\n",
    "print(f\"{a = }\")"
   ]
  },
  {
   "cell_type": "code",
   "execution_count": 99,
   "metadata": {
    "ExecuteTime": {
     "end_time": "2020-10-03T10:25:33.222333Z",
     "start_time": "2020-10-03T10:25:33.218368Z"
    },
    "hidden": true
   },
   "outputs": [
    {
     "name": "stdout",
     "output_type": "stream",
     "text": [
      "(10, 11, 12, 13, 14, 15, 16, 17, 18, 19, 20)\n",
      "(0, 10, 20, 30, 40, 50, 60, 70, 80, 90, 100)\n"
     ]
    }
   ],
   "source": [
    "# map(func, iterable). Возвращает генератор.\n",
    "def add_10(x):\n",
    "    return x + 10\n",
    "\n",
    "print(tuple(map(add_10, a)))\n",
    "\n",
    "# Или через анонимную функцию (lambda)\n",
    "print(tuple(map(lambda x: x * 10, a)))"
   ]
  },
  {
   "cell_type": "code",
   "execution_count": 100,
   "metadata": {
    "ExecuteTime": {
     "end_time": "2020-10-03T10:28:15.293540Z",
     "start_time": "2020-10-03T10:28:15.289858Z"
    },
    "hidden": true
   },
   "outputs": [
    {
     "name": "stdout",
     "output_type": "stream",
     "text": [
      "(3, 4, 5, 6)\n"
     ]
    }
   ],
   "source": [
    "# filter(func, iterable). Возвращает генератор.\n",
    "print(tuple(filter(lambda x: 2 < x <= 6, a)))"
   ]
  },
  {
   "cell_type": "code",
   "execution_count": 102,
   "metadata": {
    "ExecuteTime": {
     "end_time": "2020-10-03T10:29:45.302528Z",
     "start_time": "2020-10-03T10:29:45.297882Z"
    },
    "hidden": true
   },
   "outputs": [
    {
     "name": "stdout",
     "output_type": "stream",
     "text": [
      "product = 3628800\n",
      "3628800\n"
     ]
    }
   ],
   "source": [
    "# reduce(func, iterable). Возвращает генератор.\n",
    "# Applies a rolling computation to sequential pairs of values in a list\n",
    "import functools as ft\n",
    "\n",
    "product = 1\n",
    "for num in a[1:]:\n",
    "    product = product * num\n",
    "print(f\"{product = }\")\n",
    "    \n",
    "print(ft.reduce(lambda x, y: x * y, a[1:]))"
   ]
  },
  {
   "cell_type": "code",
   "execution_count": 104,
   "metadata": {
    "ExecuteTime": {
     "end_time": "2020-10-03T10:38:31.410834Z",
     "start_time": "2020-10-03T10:38:31.405983Z"
    },
    "hidden": true
   },
   "outputs": [
    {
     "data": {
      "text/plain": [
       "[2, 3]"
      ]
     },
     "execution_count": 104,
     "metadata": {},
     "output_type": "execute_result"
    }
   ],
   "source": [
    "d = {'a': 1, 'b': 2}\n",
    "list(map(lambda x: x[1] + 1, d.items()))"
   ]
  },
  {
   "cell_type": "markdown",
   "metadata": {},
   "source": [
    "# List comprehension, context manager, работа с файлами"
   ]
  },
  {
   "cell_type": "code",
   "execution_count": 105,
   "metadata": {
    "ExecuteTime": {
     "end_time": "2020-10-03T10:39:51.018182Z",
     "start_time": "2020-10-03T10:39:51.013317Z"
    },
    "solution2": "hidden",
    "solution2_first": true
   },
   "outputs": [
    {
     "name": "stdout",
     "output_type": "stream",
     "text": [
      "Result: [10, 6, 'string2']\n"
     ]
    }
   ],
   "source": [
    "list1 = [1, 2, 6, 10, 'string1', 56, 'string2']\n",
    "list2 = [10, 20, 6, 100, 'string10', 5, 'string2']\n",
    "\n",
    "result = []\n",
    "for e1 in list1:\n",
    "    for e2 in list2:\n",
    "        if e1 == e2:\n",
    "            result.append(e1)\n",
    "print(\"Result:\", f\"{list(set(result))}\")"
   ]
  },
  {
   "cell_type": "markdown",
   "metadata": {
    "heading_collapsed": true
   },
   "source": [
    "## List comprehension"
   ]
  },
  {
   "cell_type": "markdown",
   "metadata": {
    "hidden": true
   },
   "source": [
    "\"**List comprehensions provide a concise way to create lists.**\n",
    "\n",
    "Common applications are to make new lists where each element is the result of some operations applied to each member of another sequence or iterable, or to create a subsequence of those elements that satisfy a certain condition.\" [read](https://docs.python.org/3/tutorial/datastructures.html)"
   ]
  },
  {
   "cell_type": "code",
   "execution_count": 108,
   "metadata": {
    "ExecuteTime": {
     "end_time": "2020-10-03T10:42:35.779063Z",
     "start_time": "2020-10-03T10:42:35.775537Z"
    },
    "hidden": true
   },
   "outputs": [],
   "source": [
    "result = list(set(e1 for e1 in list1 for e2 in list2 if e1 == e2))"
   ]
  },
  {
   "cell_type": "code",
   "execution_count": 107,
   "metadata": {
    "ExecuteTime": {
     "end_time": "2020-10-03T10:40:50.544741Z",
     "start_time": "2020-10-03T10:40:50.540802Z"
    },
    "hidden": true
   },
   "outputs": [
    {
     "data": {
      "text/plain": [
       "[10, 6, 'string2']"
      ]
     },
     "execution_count": 107,
     "metadata": {},
     "output_type": "execute_result"
    }
   ],
   "source": [
    "result"
   ]
  },
  {
   "cell_type": "code",
   "execution_count": 110,
   "metadata": {
    "ExecuteTime": {
     "end_time": "2020-10-03T10:43:42.001559Z",
     "start_time": "2020-10-03T10:43:41.998554Z"
    },
    "hidden": true
   },
   "outputs": [
    {
     "name": "stdout",
     "output_type": "stream",
     "text": [
      "<class 'generator'>\n"
     ]
    }
   ],
   "source": [
    "result = (e1 for e1 in list1 for e2 in list2 if e1 == e2)\n",
    "print(type(result))"
   ]
  },
  {
   "cell_type": "code",
   "execution_count": 111,
   "metadata": {
    "ExecuteTime": {
     "end_time": "2020-10-03T10:43:55.219173Z",
     "start_time": "2020-10-03T10:43:55.215251Z"
    },
    "hidden": true
   },
   "outputs": [
    {
     "name": "stdout",
     "output_type": "stream",
     "text": [
      "<class 'list'>\n"
     ]
    }
   ],
   "source": [
    "result = [e1 for e1 in list1 for e2 in list2 if e1 == e2]\n",
    "print(type(result))"
   ]
  },
  {
   "cell_type": "code",
   "execution_count": 112,
   "metadata": {
    "ExecuteTime": {
     "end_time": "2020-10-03T10:44:03.846591Z",
     "start_time": "2020-10-03T10:44:03.841726Z"
    },
    "hidden": true
   },
   "outputs": [
    {
     "data": {
      "text/plain": [
       "(7, 7)"
      ]
     },
     "execution_count": 112,
     "metadata": {},
     "output_type": "execute_result"
    }
   ],
   "source": [
    "len(list1), len(list2)"
   ]
  },
  {
   "cell_type": "code",
   "execution_count": 113,
   "metadata": {
    "ExecuteTime": {
     "end_time": "2020-10-03T10:45:02.404025Z",
     "start_time": "2020-10-03T10:45:02.400700Z"
    },
    "hidden": true
   },
   "outputs": [
    {
     "name": "stdout",
     "output_type": "stream",
     "text": [
      "{1: 10, 2: 20, 6: 6, 10: 100, 'string1': 'string10', 56: 5, 'string2': 'string2'}, type: <class 'dict'>\n"
     ]
    }
   ],
   "source": [
    "result = {k: v for k, v in zip(list1, list2)}\n",
    "print(f\"{result}, type: {type(result)}\")"
   ]
  },
  {
   "cell_type": "markdown",
   "metadata": {},
   "source": [
    "## Работа с файлами и context manager"
   ]
  },
  {
   "cell_type": "code",
   "execution_count": 114,
   "metadata": {
    "ExecuteTime": {
     "end_time": "2020-10-03T10:48:39.233698Z",
     "start_time": "2020-10-03T10:48:39.231545Z"
    }
   },
   "outputs": [],
   "source": [
    "from pathlib import Path"
   ]
  },
  {
   "cell_type": "code",
   "execution_count": 116,
   "metadata": {
    "ExecuteTime": {
     "end_time": "2020-10-03T10:49:11.845844Z",
     "start_time": "2020-10-03T10:49:11.842622Z"
    }
   },
   "outputs": [],
   "source": [
    "data_path = Path('.', 'data')"
   ]
  },
  {
   "cell_type": "markdown",
   "metadata": {},
   "source": [
    "### Чтение файла с диска"
   ]
  },
  {
   "cell_type": "markdown",
   "metadata": {
    "heading_collapsed": true
   },
   "source": [
    "#### Способ №1 (Обычный)"
   ]
  },
  {
   "cell_type": "code",
   "execution_count": 118,
   "metadata": {
    "ExecuteTime": {
     "end_time": "2020-10-03T10:50:43.040134Z",
     "start_time": "2020-10-03T10:50:43.037689Z"
    },
    "hidden": true
   },
   "outputs": [],
   "source": [
    "f = open(data_path / 'user_item.csv')"
   ]
  },
  {
   "cell_type": "code",
   "execution_count": 120,
   "metadata": {
    "ExecuteTime": {
     "end_time": "2020-10-03T10:51:25.009796Z",
     "start_time": "2020-10-03T10:51:24.993059Z"
    },
    "hidden": true
   },
   "outputs": [
    {
     "name": "stdout",
     "output_type": "stream",
     "text": [
      "user,item,r\n",
      "u1,i1,1\n",
      "u1,i3,2\n",
      "u2,i2,1\n",
      "u2,i3,3\n",
      "u3,i1,4\n",
      "u3,i4,5\n",
      "u3,i2,2\n"
     ]
    }
   ],
   "source": [
    "for line in f:\n",
    "    print(line, end='')"
   ]
  },
  {
   "cell_type": "code",
   "execution_count": 121,
   "metadata": {
    "ExecuteTime": {
     "end_time": "2020-10-03T10:52:49.707214Z",
     "start_time": "2020-10-03T10:52:49.704725Z"
    },
    "hidden": true
   },
   "outputs": [],
   "source": [
    "# Почему так происходит?\n",
    "for line in f:\n",
    "    print(line, end='')"
   ]
  },
  {
   "cell_type": "code",
   "execution_count": 122,
   "metadata": {
    "ExecuteTime": {
     "end_time": "2020-10-03T10:53:33.356543Z",
     "start_time": "2020-10-03T10:53:33.354469Z"
    },
    "hidden": true
   },
   "outputs": [],
   "source": [
    "f.close()"
   ]
  },
  {
   "cell_type": "code",
   "execution_count": null,
   "metadata": {
    "hidden": true
   },
   "outputs": [],
   "source": []
  },
  {
   "cell_type": "code",
   "execution_count": 123,
   "metadata": {
    "ExecuteTime": {
     "end_time": "2020-10-03T10:54:21.919778Z",
     "start_time": "2020-10-03T10:54:21.915171Z"
    },
    "hidden": true
   },
   "outputs": [
    {
     "name": "stdout",
     "output_type": "stream",
     "text": [
      "user,item,r\n",
      "u1,i1,1\n"
     ]
    }
   ],
   "source": [
    "# Считаем последовательно по одной строке файла\n",
    "f = open(data_path / 'user_item.csv')\n",
    "print(f.readline(), end='')\n",
    "print(f.readline(), end='')\n",
    "f.close()"
   ]
  },
  {
   "cell_type": "code",
   "execution_count": null,
   "metadata": {
    "hidden": true
   },
   "outputs": [],
   "source": []
  },
  {
   "cell_type": "code",
   "execution_count": 124,
   "metadata": {
    "ExecuteTime": {
     "end_time": "2020-10-03T10:54:48.291862Z",
     "start_time": "2020-10-03T10:54:48.288486Z"
    },
    "hidden": true
   },
   "outputs": [
    {
     "name": "stdout",
     "output_type": "stream",
     "text": [
      "('user,item,r\\n', 'u1,i1,1\\n', 'u1,i3,2\\n', 'u2,i2,1\\n', 'u2,i3,3\\n', 'u3,i1,4\\n', 'u3,i4,5\\n', 'u3,i2,2\\n')\n"
     ]
    }
   ],
   "source": [
    "# Считаем содержимое файла в tuple, где каждый\n",
    "f = open(data_path / 'user_item.csv')\n",
    "lines = tuple(line for line in f)\n",
    "f.close()\n",
    "\n",
    "# \\n нам не нужны\n",
    "print(lines)"
   ]
  },
  {
   "cell_type": "code",
   "execution_count": 125,
   "metadata": {
    "ExecuteTime": {
     "end_time": "2020-10-03T10:55:06.979157Z",
     "start_time": "2020-10-03T10:55:06.975963Z"
    },
    "hidden": true
   },
   "outputs": [
    {
     "name": "stdout",
     "output_type": "stream",
     "text": [
      "('user,item,r', 'u1,i1,1', 'u1,i3,2', 'u2,i2,1', 'u2,i3,3', 'u3,i1,4', 'u3,i4,5', 'u3,i2,2')\n"
     ]
    }
   ],
   "source": [
    "# Считаем содержимое файла в tuple, где каждый\n",
    "f = open(data_path / 'user_item.csv')\n",
    "lines = tuple(line.strip() for line in f)\n",
    "f.close()\n",
    "\n",
    "# \\n нам не нужны\n",
    "print(lines)"
   ]
  },
  {
   "cell_type": "markdown",
   "metadata": {
    "heading_collapsed": true
   },
   "source": [
    "#### Задача"
   ]
  },
  {
   "cell_type": "markdown",
   "metadata": {
    "hidden": true,
    "solution2": "hidden",
    "solution2_first": true
   },
   "source": [
    "Необходимо считать содержимое файла в структуру вида:\n",
    "```python\n",
    "[\n",
    "    {'user': 'u1', 'item': 'i1', 'r': 1},\n",
    "    {'user': 'u1', 'item': 'i3', 'r': 2},\n",
    "    {'user': 'u2', 'item': 'i2', 'r': 1},\n",
    "    {'user': 'u2', 'item': 'i3', 'r': 3},\n",
    "    {'user': 'u3', 'item': 'i1', 'r': 4},\n",
    "    {'user': 'u3', 'item': 'i4', 'r': 5},\n",
    "    {'user': 'u3', 'item': 'i2', 'r': 2},\n",
    "]\n",
    "```\n",
    "Для разделения строки по символу \",\" используйте метод строки ```string.split(\",\")```, который возвращает list **(10 мин).**"
   ]
  },
  {
   "cell_type": "code",
   "execution_count": 126,
   "metadata": {
    "ExecuteTime": {
     "end_time": "2020-10-03T11:15:24.304488Z",
     "start_time": "2020-10-03T11:15:24.299465Z"
    },
    "hidden": true,
    "solution2": "hidden"
   },
   "outputs": [
    {
     "name": "stdout",
     "output_type": "stream",
     "text": [
      "[{'user': 'u1', 'item': 'i1', 'r': 1}, {'user': 'u1', 'item': 'i3', 'r': 2}, {'user': 'u2', 'item': 'i2', 'r': 1}, {'user': 'u2', 'item': 'i3', 'r': 3}, {'user': 'u3', 'item': 'i1', 'r': 4}, {'user': 'u3', 'item': 'i4', 'r': 5}, {'user': 'u3', 'item': 'i2', 'r': 2}]\n"
     ]
    }
   ],
   "source": [
    "f = open(data_path / 'user_item.csv')\n",
    "\n",
    "header = f.readline().strip().split(\",\")\n",
    "\n",
    "data = []\n",
    "for line in f:\n",
    "    user, item, r = line.strip().split(\",\")\n",
    "    data.append({header[0]: user, header[1]: item, header[2]: int(r)})\n",
    "print(f\"{data}\")\n",
    "\n",
    "f.close()"
   ]
  },
  {
   "cell_type": "markdown",
   "metadata": {
    "heading_collapsed": true
   },
   "source": [
    "#### Способ №2 (Context manager)"
   ]
  },
  {
   "cell_type": "code",
   "execution_count": 127,
   "metadata": {
    "ExecuteTime": {
     "end_time": "2020-10-03T11:26:19.293805Z",
     "start_time": "2020-10-03T11:26:19.287804Z"
    },
    "code_folding": [],
    "hidden": true
   },
   "outputs": [],
   "source": [
    "# Избавимся от постоянного закрывания файла.\n",
    "# Context manager - это класс, который реализует методы __enter__() и __exit__().\n",
    "# Можно воспользоваться знаниями о генераторах.\n",
    "from contextlib import contextmanager\n",
    "\n",
    "@contextmanager\n",
    "def open_file(file_path):\n",
    "    f = open(file_path)\n",
    "    try:\n",
    "        print(\"Файл открыт\")\n",
    "        yield f\n",
    "    finally:\n",
    "        print(\"Файл закрыт\")\n",
    "        f.close()\n",
    "\n",
    "# О декораторах (decorators) и context manager подробнее в документации Python"
   ]
  },
  {
   "cell_type": "code",
   "execution_count": 128,
   "metadata": {
    "ExecuteTime": {
     "end_time": "2020-10-03T11:26:38.527904Z",
     "start_time": "2020-10-03T11:26:38.523978Z"
    },
    "hidden": true,
    "solution2": "hidden",
    "solution2_first": true
   },
   "outputs": [
    {
     "name": "stdout",
     "output_type": "stream",
     "text": [
      "Файл открыт\n",
      "Файл закрыт\n",
      "\n",
      "('user,item,r', 'u1,i1,1', 'u1,i3,2', 'u2,i2,1', 'u2,i3,3', 'u3,i1,4', 'u3,i4,5', 'u3,i2,2')\n"
     ]
    }
   ],
   "source": [
    "# Теперь можно использовать оператор with\n",
    "\n",
    "with open_file(data_path / 'user_item.csv') as f_in:\n",
    "    lines = tuple(line.strip() for line in f_in)\n",
    "print()\n",
    "print(lines)"
   ]
  },
  {
   "cell_type": "code",
   "execution_count": 129,
   "metadata": {
    "ExecuteTime": {
     "end_time": "2020-10-03T11:28:33.662217Z",
     "start_time": "2020-10-03T11:28:33.657673Z"
    },
    "hidden": true,
    "solution2": "hidden"
   },
   "outputs": [
    {
     "name": "stdout",
     "output_type": "stream",
     "text": [
      "('user,item,r', 'u1,i1,1', 'u1,i3,2', 'u2,i2,1', 'u2,i3,3', 'u3,i1,4', 'u3,i4,5', 'u3,i2,2')\n"
     ]
    }
   ],
   "source": [
    "# Python за нас уже позаботился\n",
    "\n",
    "with (data_path / 'user_item.csv').open() as f_in:\n",
    "    lines = tuple(line.strip() for line in f_in)\n",
    "print(lines)"
   ]
  },
  {
   "cell_type": "markdown",
   "metadata": {
    "heading_collapsed": true
   },
   "source": [
    "#### Способ №3 (готовя библиотека)"
   ]
  },
  {
   "cell_type": "code",
   "execution_count": 130,
   "metadata": {
    "ExecuteTime": {
     "end_time": "2020-10-03T11:33:56.535256Z",
     "start_time": "2020-10-03T11:33:56.532059Z"
    },
    "hidden": true
   },
   "outputs": [],
   "source": [
    "import csv"
   ]
  },
  {
   "cell_type": "code",
   "execution_count": 131,
   "metadata": {
    "ExecuteTime": {
     "end_time": "2020-10-03T11:34:15.459012Z",
     "start_time": "2020-10-03T11:34:15.455388Z"
    },
    "hidden": true
   },
   "outputs": [
    {
     "name": "stdout",
     "output_type": "stream",
     "text": [
      "[{'user': 'u1', 'item': 'i1', 'r': 1}, {'user': 'u1', 'item': 'i3', 'r': 2}, {'user': 'u2', 'item': 'i2', 'r': 1}, {'user': 'u2', 'item': 'i3', 'r': 3}, {'user': 'u3', 'item': 'i1', 'r': 4}, {'user': 'u3', 'item': 'i4', 'r': 5}, {'user': 'u3', 'item': 'i2', 'r': 2}]\n"
     ]
    }
   ],
   "source": [
    "with (data_path / 'user_item.csv').open() as csvfile:\n",
    "    reader = csv.DictReader(csvfile)\n",
    "    \n",
    "    data = []\n",
    "    for row in reader:\n",
    "        row['r'] = int(row['r'])\n",
    "        data.append(row)\n",
    "print(data)"
   ]
  },
  {
   "cell_type": "markdown",
   "metadata": {},
   "source": [
    "### Запись в файл"
   ]
  },
  {
   "cell_type": "code",
   "execution_count": 132,
   "metadata": {
    "ExecuteTime": {
     "end_time": "2020-10-03T11:34:39.827710Z",
     "start_time": "2020-10-03T11:34:39.821685Z"
    }
   },
   "outputs": [],
   "source": [
    "# Сделаем backup файлов\n",
    "import shutil\n",
    "\n",
    "src = data_path / 'user_item.csv'\n",
    "dst = data_path / 'user_item_bak.csv'\n",
    "shutil.copy(src, dst)\n",
    "\n",
    "src = data_path / 'user_features.csv'\n",
    "dst = data_path / 'user_features_bak.csv'\n",
    "shutil.copy(src, dst);"
   ]
  },
  {
   "cell_type": "markdown",
   "metadata": {},
   "source": [
    "#### Способ №1"
   ]
  },
  {
   "cell_type": "code",
   "execution_count": 133,
   "metadata": {
    "ExecuteTime": {
     "end_time": "2020-10-03T11:37:08.536751Z",
     "start_time": "2020-10-03T11:37:08.533338Z"
    }
   },
   "outputs": [],
   "source": [
    "with (data_path / 'user_item.csv').open('a') as f_out:\n",
    "    f_out.write(\"u2,i6,3\\n\")"
   ]
  },
  {
   "cell_type": "markdown",
   "metadata": {},
   "source": [
    "#### Способ №2"
   ]
  },
  {
   "cell_type": "code",
   "execution_count": 134,
   "metadata": {
    "ExecuteTime": {
     "end_time": "2020-10-03T11:37:51.788797Z",
     "start_time": "2020-10-03T11:37:51.784318Z"
    }
   },
   "outputs": [],
   "source": [
    "with (data_path / 'user_item.csv').open('a') as f_out:\n",
    "    fieldnames = ['user', 'item', 'r']\n",
    "    writer = csv.DictWriter(f_out, fieldnames=fieldnames)\n",
    "    writer.writerow({'user': 'u2', 'item': 'i4', 'r': 5})"
   ]
  },
  {
   "cell_type": "markdown",
   "metadata": {},
   "source": [
    "#### Задача"
   ]
  },
  {
   "cell_type": "markdown",
   "metadata": {
    "solution2": "shown",
    "solution2_first": true
   },
   "source": [
    "Напишите код, добавляющий в файл `user_item.csv` нового пользователя `u4`, оценившего item `i5` оценкой `1`.\n",
    "Добавте профиль пользователя в файл `user_features.csv` со значением поля `loc == \"msk\"` и произвольными полями `f1, f2, f3` со значениями из `{0, 1}` **(10 мин).**"
   ]
  },
  {
   "cell_type": "code",
   "execution_count": 136,
   "metadata": {
    "ExecuteTime": {
     "end_time": "2020-10-03T11:45:36.657221Z",
     "start_time": "2020-10-03T11:45:36.653716Z"
    }
   },
   "outputs": [
    {
     "data": {
      "text/plain": [
       "False"
      ]
     },
     "execution_count": 136,
     "metadata": {},
     "output_type": "execute_result"
    }
   ],
   "source": [
    "a = 1\n",
    "\n",
    "isinstance(a, float)"
   ]
  },
  {
   "cell_type": "code",
   "execution_count": null,
   "metadata": {
    "ExecuteTime": {
     "end_time": "2020-09-23T14:34:22.757886Z",
     "start_time": "2020-09-23T14:34:22.693609Z"
    },
    "solution2": "shown"
   },
   "outputs": [],
   "source": [
    "file1 = data_path / 'user_item.csv'\n",
    "file2 = data_path / 'user_features.csv'\n",
    "\n",
    "with file1.open('a') as f_out:\n",
    "    fieldnames = ['user', 'item', 'r']\n",
    "    writer = csv.DictWriter(f_out, fieldnames=fieldnames)\n",
    "    writer.writerow({'user': 'u4', 'item': 'i5', 'r': 1})\n",
    "    \n",
    "\n",
    "with file2.open('a') as f_out:\n",
    "    fieldnames = ['user', 'f1', 'f2', 'f3', 'loc']\n",
    "    writer = csv.DictWriter(f_out, fieldnames=fieldnames)\n",
    "    writer.writerow({\n",
    "        'user': 'u4',\n",
    "        'f1': random.randint(0, 1),\n",
    "        'f2': random.randint(0, 1),\n",
    "        'f3': random.randint(0, 1),\n",
    "        'loc': 'msk',\n",
    "    })\n",
    "    \n",
    "with file1.open() as f1_in, file2.open() as f2_in:\n",
    "    reader1, reader2 = csv.DictReader(f1_in), csv.DictReader(f2_in)\n",
    "    print(f\"File: {file1.name}\")\n",
    "    for row in reader1:\n",
    "        print(' '*3, row)\n",
    "        \n",
    "    print()\n",
    "    print(f\"File: {file2.name}\")\n",
    "    for row in reader2:\n",
    "        print(' '*3, row)"
   ]
  },
  {
   "cell_type": "markdown",
   "metadata": {},
   "source": [
    "# Подготовка пользовательских признаков для библиотеки LightFM"
   ]
  },
  {
   "cell_type": "code",
   "execution_count": null,
   "metadata": {
    "ExecuteTime": {
     "end_time": "2020-09-29T14:19:17.610965Z",
     "start_time": "2020-09-29T14:19:17.605787Z"
    }
   },
   "outputs": [],
   "source": [
    "with (data_path / 'user_features.csv').open() as f_in:\n",
    "    reader = csv.DictReader(f_in)\n",
    "    user_features_raw = [row for row in reader]"
   ]
  },
  {
   "cell_type": "code",
   "execution_count": null,
   "metadata": {
    "ExecuteTime": {
     "end_time": "2020-09-29T14:19:23.429038Z",
     "start_time": "2020-09-29T14:19:23.425538Z"
    }
   },
   "outputs": [],
   "source": [
    "user_features_raw"
   ]
  },
  {
   "cell_type": "markdown",
   "metadata": {
    "ExecuteTime": {
     "end_time": "2020-09-29T15:45:34.130396Z",
     "start_time": "2020-09-29T15:45:34.127166Z"
    }
   },
   "source": [
    "На первом этапе необходимо сделать генератор/итератор `(user_id, item_id)`"
   ]
  },
  {
   "cell_type": "code",
   "execution_count": null,
   "metadata": {
    "ExecuteTime": {
     "end_time": "2020-09-29T15:48:19.687521Z",
     "start_time": "2020-09-29T15:48:19.680017Z"
    }
   },
   "outputs": [],
   "source": [
    "def user_item_gen(file_path):\n",
    "    with file_path.open() as f_in:\n",
    "        reader = csv.DictReader(f_in)\n",
    "        for row in reader:\n",
    "            yield row['user'], row['item']"
   ]
  },
  {
   "cell_type": "code",
   "execution_count": null,
   "metadata": {
    "ExecuteTime": {
     "end_time": "2020-09-29T15:48:42.457839Z",
     "start_time": "2020-09-29T15:48:42.449745Z"
    }
   },
   "outputs": [],
   "source": [
    "list(user_item_gen(data_path / 'user_item.csv'))"
   ]
  },
  {
   "cell_type": "markdown",
   "metadata": {
    "ExecuteTime": {
     "end_time": "2020-09-29T15:39:20.407882Z",
     "start_time": "2020-09-29T15:39:20.406043Z"
    }
   },
   "source": [
    "## Задача"
   ]
  },
  {
   "cell_type": "markdown",
   "metadata": {
    "solution2": "hidden",
    "solution2_first": true
   },
   "source": [
    "На первом этапе необходимо создать словарь признаков. Названия признаков лучше выбирать в таком виде <'feature_name:feature_value'>. Т.е. для нашего набора данных может получиться (одну строку мы добавили случайно) **(10 мин)**:\n",
    "\n",
    "```\n",
    "{'f1:1', 'f1:0', 'f2:1', 'f2:0', 'f3:1', 'f3:0', 'loc:msk', 'loc:ekat'}\n",
    "```"
   ]
  },
  {
   "cell_type": "code",
   "execution_count": null,
   "metadata": {
    "ExecuteTime": {
     "end_time": "2020-09-29T14:36:27.670756Z",
     "start_time": "2020-09-29T14:36:27.662237Z"
    },
    "solution2": "hidden"
   },
   "outputs": [],
   "source": [
    "features_vocab = set()\n",
    "for row in user_features_raw:\n",
    "    features_row = set([\n",
    "        ':'.join(pair)\n",
    "        for pair in row.items() if pair[0] != 'user' \n",
    "    ])\n",
    "    features_vocab |= features_row # union"
   ]
  },
  {
   "cell_type": "code",
   "execution_count": null,
   "metadata": {
    "ExecuteTime": {
     "end_time": "2020-09-29T15:42:57.092596Z",
     "start_time": "2020-09-29T15:42:57.083942Z"
    },
    "solution2": "hidden"
   },
   "outputs": [],
   "source": [
    "features_vocab"
   ]
  },
  {
   "cell_type": "markdown",
   "metadata": {},
   "source": [
    "## Задача"
   ]
  },
  {
   "cell_type": "markdown",
   "metadata": {
    "solution2": "hidden",
    "solution2_first": true
   },
   "source": [
    "На втором этапе необходимо создать генератор/итератор, который выдает данные по признакам для пользователя в таком виде **(10 мин)**:\n",
    "\n",
    "```\n",
    "(user_id, ['f1:1', 'f2:1', 'f3:0', 'loc:msk'])\n",
    "```"
   ]
  },
  {
   "cell_type": "code",
   "execution_count": null,
   "metadata": {
    "ExecuteTime": {
     "end_time": "2020-09-29T15:50:43.410402Z",
     "start_time": "2020-09-29T15:50:43.399677Z"
    },
    "solution2": "hidden"
   },
   "outputs": [],
   "source": [
    "def user_features_gen(data):\n",
    "    for row in data:\n",
    "        user_id = row['user']\n",
    "        u_features = [':'.join(pair) for pair in row.items() if pair[0] != 'user']\n",
    "        yield user_id, u_features"
   ]
  },
  {
   "cell_type": "code",
   "execution_count": null,
   "metadata": {
    "ExecuteTime": {
     "end_time": "2020-09-29T15:51:17.592409Z",
     "start_time": "2020-09-29T15:51:17.584451Z"
    },
    "solution2": "hidden"
   },
   "outputs": [],
   "source": [
    "list(user_features_gen(user_features_raw))"
   ]
  },
  {
   "cell_type": "code",
   "execution_count": null,
   "metadata": {},
   "outputs": [],
   "source": []
  }
 ],
 "metadata": {
  "kernelspec": {
   "display_name": "Python 3",
   "language": "python",
   "name": "python3"
  },
  "language_info": {
   "codemirror_mode": {
    "name": "ipython",
    "version": 3
   },
   "file_extension": ".py",
   "mimetype": "text/x-python",
   "name": "python",
   "nbconvert_exporter": "python",
   "pygments_lexer": "ipython3",
   "version": "3.8.3"
  },
  "notify_time": "5",
  "toc": {
   "base_numbering": 1,
   "nav_menu": {
    "height": "458px",
    "width": "530px"
   },
   "number_sections": true,
   "sideBar": true,
   "skip_h1_title": false,
   "title_cell": "Table of Contents",
   "title_sidebar": "Contents",
   "toc_cell": false,
   "toc_position": {
    "height": "calc(100% - 180px)",
    "left": "10px",
    "top": "150px",
    "width": "384px"
   },
   "toc_section_display": true,
   "toc_window_display": true
  }
 },
 "nbformat": 4,
 "nbformat_minor": 4
}
